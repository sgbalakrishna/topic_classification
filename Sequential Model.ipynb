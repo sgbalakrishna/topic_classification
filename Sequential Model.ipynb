{
 "cells": [
  {
   "cell_type": "markdown",
   "metadata": {},
   "source": [
    "# New classification: Sequential Model"
   ]
  },
  {
   "cell_type": "code",
   "execution_count": 27,
   "metadata": {},
   "outputs": [],
   "source": [
    "import numpy as np\n",
    "import pandas as pd \n",
    "import os\n",
    "import itertools\n",
    "import os\n",
    "import re\n",
    "\n",
    "%matplotlib inline\n",
    "import matplotlib.pyplot as plt\n",
    "import numpy as np\n",
    "import pandas as pd\n",
    "import tensorflow as tf\n",
    "\n",
    "from sklearn.preprocessing import LabelBinarizer, LabelEncoder\n",
    "from sklearn.metrics import confusion_matrix\n",
    "\n",
    "from tensorflow import keras\n",
    "layers = keras.layers\n",
    "models = keras.models"
   ]
  },
  {
   "cell_type": "markdown",
   "metadata": {},
   "source": [
    "# fetch data"
   ]
  },
  {
   "cell_type": "code",
   "execution_count": 28,
   "metadata": {},
   "outputs": [
    {
     "data": {
      "text/html": [
       "<div>\n",
       "<style scoped>\n",
       "    .dataframe tbody tr th:only-of-type {\n",
       "        vertical-align: middle;\n",
       "    }\n",
       "\n",
       "    .dataframe tbody tr th {\n",
       "        vertical-align: top;\n",
       "    }\n",
       "\n",
       "    .dataframe thead th {\n",
       "        text-align: right;\n",
       "    }\n",
       "</style>\n",
       "<table border=\"1\" class=\"dataframe\">\n",
       "  <thead>\n",
       "    <tr style=\"text-align: right;\">\n",
       "      <th></th>\n",
       "      <th>category</th>\n",
       "      <th>text</th>\n",
       "    </tr>\n",
       "  </thead>\n",
       "  <tbody>\n",
       "    <tr>\n",
       "      <th>0</th>\n",
       "      <td>rec.sport.hockey</td>\n",
       "      <td>From: kkeller@mail.sas.upenn.edu (Keith Keller...</td>\n",
       "    </tr>\n",
       "    <tr>\n",
       "      <th>1</th>\n",
       "      <td>talk.politics.misc</td>\n",
       "      <td>From: turmoil@halcyon.com (Tim Crowley)\\nSubje...</td>\n",
       "    </tr>\n",
       "    <tr>\n",
       "      <th>2</th>\n",
       "      <td>rec.sport.hockey</td>\n",
       "      <td>From: roney@selkirk.sfu.ca (Chris J. Roney)\\nS...</td>\n",
       "    </tr>\n",
       "    <tr>\n",
       "      <th>3</th>\n",
       "      <td>comp.windows.x</td>\n",
       "      <td>From: dbrooks@osf.org (David Brooks)\\nSubject:...</td>\n",
       "    </tr>\n",
       "    <tr>\n",
       "      <th>4</th>\n",
       "      <td>sci.space</td>\n",
       "      <td>From: jfc@athena.mit.edu (John F Carr)\\nSubjec...</td>\n",
       "    </tr>\n",
       "  </tbody>\n",
       "</table>\n",
       "</div>"
      ],
      "text/plain": [
       "             category                                               text\n",
       "0    rec.sport.hockey  From: kkeller@mail.sas.upenn.edu (Keith Keller...\n",
       "1  talk.politics.misc  From: turmoil@halcyon.com (Tim Crowley)\\nSubje...\n",
       "2    rec.sport.hockey  From: roney@selkirk.sfu.ca (Chris J. Roney)\\nS...\n",
       "3      comp.windows.x  From: dbrooks@osf.org (David Brooks)\\nSubject:...\n",
       "4           sci.space  From: jfc@athena.mit.edu (John F Carr)\\nSubjec..."
      ]
     },
     "execution_count": 28,
     "metadata": {},
     "output_type": "execute_result"
    }
   ],
   "source": [
    "path = \"data/20news-18828\"\n",
    "allFolders = os.listdir(path)\n",
    "df = []\n",
    "for fldr in allFolders:\n",
    "    allFiles = os.listdir(path+\"/\"+fldr)\n",
    "    for fls in allFiles:\n",
    "        with open(path+\"/\"+fldr+\"/\"+fls, \"r\", encoding = \"latin\") as f:\n",
    "            d = {\"category\":str(fldr),\"text\":f.read()}\n",
    "        df.append(d)\n",
    "data = pd.DataFrame(df)\n",
    "data = data.sample(frac = 1).reset_index(drop=True)\n",
    "data.head()"
   ]
  },
  {
   "cell_type": "code",
   "execution_count": 32,
   "metadata": {},
   "outputs": [
    {
     "data": {
      "text/html": [
       "<div>\n",
       "<style scoped>\n",
       "    .dataframe tbody tr th:only-of-type {\n",
       "        vertical-align: middle;\n",
       "    }\n",
       "\n",
       "    .dataframe tbody tr th {\n",
       "        vertical-align: top;\n",
       "    }\n",
       "\n",
       "    .dataframe thead th {\n",
       "        text-align: right;\n",
       "    }\n",
       "</style>\n",
       "<table border=\"1\" class=\"dataframe\">\n",
       "  <thead>\n",
       "    <tr style=\"text-align: right;\">\n",
       "      <th></th>\n",
       "      <th>category</th>\n",
       "      <th>text</th>\n",
       "    </tr>\n",
       "  </thead>\n",
       "  <tbody>\n",
       "    <tr>\n",
       "      <th>0</th>\n",
       "      <td>comp.sys.mac.hardware</td>\n",
       "      <td>From: orly@phakt.usc.edu (Mr. Nitro Plastique)...</td>\n",
       "    </tr>\n",
       "    <tr>\n",
       "      <th>1</th>\n",
       "      <td>soc.religion.christian</td>\n",
       "      <td>From: alvin@spot.Colorado.EDU (Kenneth Alvin)\\...</td>\n",
       "    </tr>\n",
       "    <tr>\n",
       "      <th>2</th>\n",
       "      <td>rec.sport.baseball</td>\n",
       "      <td>From: r4938585@joplin.biosci.arizona.edu (Doug...</td>\n",
       "    </tr>\n",
       "    <tr>\n",
       "      <th>3</th>\n",
       "      <td>sport</td>\n",
       "      <td>henry tipped for fifa award fifa president sep...</td>\n",
       "    </tr>\n",
       "    <tr>\n",
       "      <th>4</th>\n",
       "      <td>rec.sport.hockey</td>\n",
       "      <td>From: delarocq@eos.ncsu.edu (DERRELL EMERY LAR...</td>\n",
       "    </tr>\n",
       "  </tbody>\n",
       "</table>\n",
       "</div>"
      ],
      "text/plain": [
       "                 category                                               text\n",
       "0   comp.sys.mac.hardware  From: orly@phakt.usc.edu (Mr. Nitro Plastique)...\n",
       "1  soc.religion.christian  From: alvin@spot.Colorado.EDU (Kenneth Alvin)\\...\n",
       "2      rec.sport.baseball  From: r4938585@joplin.biosci.arizona.edu (Doug...\n",
       "3                   sport  henry tipped for fifa award fifa president sep...\n",
       "4        rec.sport.hockey  From: delarocq@eos.ncsu.edu (DERRELL EMERY LAR..."
      ]
     },
     "execution_count": 32,
     "metadata": {},
     "output_type": "execute_result"
    }
   ],
   "source": [
    "data2 = pd.read_csv(\"data/bbc-text.csv\")\n",
    "frames = [data, data2]\n",
    "data = pd.concat(frames)\n",
    "data = data.sample(frac = 1).reset_index(drop=True)\n",
    "data.category = data.category.apply(lambda x: x.lower())\n",
    "data.head()"
   ]
  },
  {
   "cell_type": "markdown",
   "metadata": {},
   "source": [
    "## Cleaning"
   ]
  },
  {
   "cell_type": "code",
   "execution_count": 33,
   "metadata": {},
   "outputs": [],
   "source": [
    "def replace_cat(y):\n",
    "    if ((y == 'talk.politics.mideast') or (y == 'talk.politics.guns') or (y == 'talk.politics.misc')):\n",
    "        return 'politics'\n",
    "    if ((y == 'rec.sport.hockey') or (y == 'rec.sport.baseball') or (y == 'sport')):\n",
    "        return 'sports'\n",
    "    if ((y == 'tech') or (y == 'sci.med') or (y == 'science') or (y == 'sci.space') or (y == 'sci.crypt') or (y == 'sci.electronics')):\n",
    "        return 'science_and_tech'\n",
    "    if ((y == 'comp.os.ms-windows.misc') or (y == 'comp.sys.mac.hardware') or (y == 'comp.sys.ibm.pc.hardware') or (y == 'comp.windows.x') or (y == 'comp.graphics')):\n",
    "        return 'computers'\n",
    "    if ((y == 'rec.motorcycles') or (y == 'rec.autos')):\n",
    "        return 'automobiles'\n",
    "    if ((y == 'alt.atheism') or (y == 'talk.religion.misc') or (y == 'soc.religion.christian')):\n",
    "        return 'religion'\n",
    "    if ((y == 'culture & arts') or (y == 'arts & culture') or (y == 'arts')):\n",
    "        return 'arts & culture'\n",
    "    if ((y == 'black voices') or (y == 'latino voices')):\n",
    "        return 'voices'    \n",
    "    if ((y == 'worldpost') or (y == 'the worldpost')):\n",
    "        return 'worldpost'    \n",
    "    if ((y == 'green') or (y == 'environment')):\n",
    "        return 'environment'     \n",
    "    if ((y == 'weddings') or (y == 'divorce')):\n",
    "        return 'relationship'      \n",
    "    if (y == 'misc.forsale'):\n",
    "        return 'misc'\n",
    "    else:\n",
    "        return y"
   ]
  },
  {
   "cell_type": "code",
   "execution_count": 34,
   "metadata": {},
   "outputs": [],
   "source": [
    "data['category'] = data['category'].apply(lambda x: replace_cat(x))"
   ]
  },
  {
   "cell_type": "code",
   "execution_count": 35,
   "metadata": {},
   "outputs": [
    {
     "data": {
      "text/plain": [
       "array(['computers', 'religion', 'sports', 'automobiles', 'politics',\n",
       "       'science_and_tech', 'entertainment', 'misc', 'business'],\n",
       "      dtype=object)"
      ]
     },
     "execution_count": 35,
     "metadata": {},
     "output_type": "execute_result"
    }
   ],
   "source": [
    "data.category.unique()"
   ]
  },
  {
   "cell_type": "code",
   "execution_count": 36,
   "metadata": {},
   "outputs": [
    {
     "data": {
      "image/png": "[encoded data removed]",
      "text/plain": [
       "<Figure size 1440x360 with 1 Axes>"
      ]
     },
     "metadata": {
      "needs_background": "light"
     },
     "output_type": "display_data"
    }
   ],
   "source": [
    "news_count = data['category'].value_counts()\n",
    "news_percent = [len(data[data['category'] == news_cat]) / len(data) * 100 for news_cat in news_count.index]\n",
    "\n",
    "ax = news_count.plot(kind='bar', figsize=(20, 5))\n",
    "for idx, p in enumerate(ax.patches):\n",
    "    h = p.get_height()\n",
    "    x, y = p.get_xy()\n",
    "    ax.annotate('{:.1f}%'.format(news_percent[idx]), (x, y + h + 0.01))"
   ]
  },
  {
   "cell_type": "code",
   "execution_count": 51,
   "metadata": {},
   "outputs": [],
   "source": [
    "import re\n",
    "\n",
    "from nltk import WordNetLemmatizer\n",
    "from nltk.corpus import stopwords\n",
    "from nltk.tokenize import word_tokenize\n",
    "lemmatizer = WordNetLemmatizer()\n",
    "strip_special_chars = re.compile(\"[^A-Za-z0-9 ]+\")\n",
    "stop_words = set(stopwords.words(\"english\"))\n",
    "\n",
    "def cleanUpSentence(r, stop_words = stop_words):\n",
    "    r = re.sub(strip_special_chars, \" \", r.lower())\n",
    "    r = re.sub('[0-9]+', ' ', r)\n",
    "    if stop_words is not None:\n",
    "        words = word_tokenize(r)\n",
    "        filtered_sentence = []\n",
    "        for w in words:\n",
    "            w = lemmatizer.lemmatize(w)\n",
    "            if ((w not in stop_words) and (len(w)<8) and (len(w)>2)):\n",
    "                filtered_sentence.append(w)\n",
    "        return \" \".join(filtered_sentence)\n",
    "    else:\n",
    "        return r"
   ]
  },
  {
   "cell_type": "code",
   "execution_count": 52,
   "metadata": {},
   "outputs": [],
   "source": [
    "#data[\"text\"] = data[\"text\"].apply(lambda x: cleanUpSentence(x))"
   ]
  },
  {
   "cell_type": "code",
   "execution_count": 53,
   "metadata": {},
   "outputs": [],
   "source": [
    "#data.to_pickle(\"./data.pkl\")\n",
    "#data = pd.read_pickle(\"./data.pkl\")"
   ]
  },
  {
   "cell_type": "code",
   "execution_count": 56,
   "metadata": {},
   "outputs": [],
   "source": [
    "max_words = 20000\n",
    "max_len = 125"
   ]
  },
  {
   "cell_type": "code",
   "execution_count": 57,
   "metadata": {},
   "outputs": [],
   "source": [
    "from sklearn.model_selection import train_test_split\n",
    "data = data.sample(frac = 1).reset_index(drop=True)\n",
    "train_text, test_text, train_cat, test_cat = train_test_split(data['text'].values, data['category'].values, test_size=0.2)"
   ]
  },
  {
   "cell_type": "code",
   "execution_count": 58,
   "metadata": {},
   "outputs": [],
   "source": [
    "max_words = 20000\n",
    "OOV_TOK = '<OOV>'\n",
    "tokenizer = tf.keras.preprocessing.text.Tokenizer(num_words=max_words)\n",
    "tokenizer.fit_on_texts(data[\"text\"]) # fit tokenizer to our training text data"
   ]
  },
  {
   "cell_type": "code",
   "execution_count": 59,
   "metadata": {},
   "outputs": [],
   "source": [
    "x_train = tokenizer.texts_to_sequences(train_text)\n",
    "x_test = tokenizer.texts_to_sequences(test_text)"
   ]
  },
  {
   "cell_type": "code",
   "execution_count": 60,
   "metadata": {},
   "outputs": [],
   "source": [
    "from keras.preprocessing.sequence import pad_sequences\n",
    "x_train = pad_sequences(x_train, maxlen=max_len, padding='post')\n",
    "x_test = pad_sequences(x_test, maxlen=max_len, padding='post')"
   ]
  },
  {
   "cell_type": "code",
   "execution_count": 61,
   "metadata": {},
   "outputs": [
    {
     "name": "stdout",
     "output_type": "stream",
     "text": [
      "x_train shape: (16842, 125)\n",
      "x_test shape: (4211, 125)\n",
      "y_train shape: (16842, 9)\n",
      "y_test shape: (4211, 9)\n"
     ]
    }
   ],
   "source": [
    "encoder = LabelEncoder()\n",
    "encoder.fit(train_cat)\n",
    "y_train = encoder.transform(train_cat)\n",
    "y_test = encoder.transform(test_cat)\n",
    "\n",
    "num_classes = np.max(y_train) + 1\n",
    "y_train = keras.utils.to_categorical(y_train, num_classes)\n",
    "y_test = keras.utils.to_categorical(y_test, num_classes)\n",
    "\n",
    "print('x_train shape:', x_train.shape)\n",
    "print('x_test shape:', x_test.shape)\n",
    "print('y_train shape:', y_train.shape)\n",
    "print('y_test shape:', y_test.shape)"
   ]
  },
  {
   "cell_type": "markdown",
   "metadata": {},
   "source": [
    "# Embedding"
   ]
  },
  {
   "cell_type": "code",
   "execution_count": 62,
   "metadata": {},
   "outputs": [],
   "source": [
    "vocab_size = len(tokenizer.word_index)+1"
   ]
  },
  {
   "cell_type": "code",
   "execution_count": 60,
   "metadata": {},
   "outputs": [
    {
     "ename": "FileNotFoundError",
     "evalue": "[Errno 2] No such file or directory: 'C:/Users/bsooral/PycharmProjects/topicDetectFlask/glove.6B.300d.txt'",
     "output_type": "error",
     "traceback": [
      "\u001b[0;31m---------------------------------------------------------------------------\u001b[0m",
      "\u001b[0;31mFileNotFoundError\u001b[0m                         Traceback (most recent call last)",
      "\u001b[0;32m<ipython-input-60-68cf2428a23d>\u001b[0m in \u001b[0;36m<module>\u001b[0;34m\u001b[0m\n\u001b[1;32m      1\u001b[0m \u001b[0mGLOVE_DIR\u001b[0m \u001b[0;34m=\u001b[0m \u001b[0;34m\"C:/Users/bsooral/PycharmProjects/topicDetectFlask/glove.6B.300d.txt\"\u001b[0m\u001b[0;34m\u001b[0m\u001b[0;34m\u001b[0m\u001b[0m\n\u001b[1;32m      2\u001b[0m \u001b[0membeddings_index\u001b[0m \u001b[0;34m=\u001b[0m \u001b[0;34m{\u001b[0m\u001b[0;34m}\u001b[0m\u001b[0;34m\u001b[0m\u001b[0;34m\u001b[0m\u001b[0m\n\u001b[0;32m----> 3\u001b[0;31m \u001b[0mf\u001b[0m \u001b[0;34m=\u001b[0m \u001b[0mopen\u001b[0m\u001b[0;34m(\u001b[0m\u001b[0mGLOVE_DIR\u001b[0m\u001b[0;34m,\u001b[0m\u001b[0mencoding\u001b[0m\u001b[0;34m=\u001b[0m\u001b[0;34m\"utf8\"\u001b[0m\u001b[0;34m)\u001b[0m\u001b[0;34m\u001b[0m\u001b[0;34m\u001b[0m\u001b[0m\n\u001b[0m\u001b[1;32m      4\u001b[0m \u001b[0;32mfor\u001b[0m \u001b[0mline\u001b[0m \u001b[0;32min\u001b[0m \u001b[0mf\u001b[0m\u001b[0;34m:\u001b[0m\u001b[0;34m\u001b[0m\u001b[0;34m\u001b[0m\u001b[0m\n\u001b[1;32m      5\u001b[0m     \u001b[0;32mtry\u001b[0m\u001b[0;34m:\u001b[0m\u001b[0;34m\u001b[0m\u001b[0;34m\u001b[0m\u001b[0m\n",
      "\u001b[0;31mFileNotFoundError\u001b[0m: [Errno 2] No such file or directory: 'C:/Users/bsooral/PycharmProjects/topicDetectFlask/glove.6B.300d.txt'"
     ]
    }
   ],
   "source": [
    "GLOVE_DIR = \"C:/Users/bsooral/PycharmProjects/topicDetectFlask/glove.6B.300d.txt\"\n",
    "embeddings_index = {}\n",
    "f = open(GLOVE_DIR,encoding=\"utf8\")\n",
    "for line in f:\n",
    "    try:\n",
    "        values = line.split()\n",
    "        word = values[0]\n",
    "        coefs = np.asarray(values[1:], dtype='float32')\n",
    "        embeddings_index[word] = coefs\n",
    "    except:\n",
    "        print(word)\n",
    "        pass\n",
    "f.close()\n",
    "print('Total %s word vectors.' % len(embeddings_index))"
   ]
  },
  {
   "cell_type": "code",
   "execution_count": null,
   "metadata": {},
   "outputs": [],
   "source": []
  },
  {
   "cell_type": "code",
   "execution_count": null,
   "metadata": {},
   "outputs": [],
   "source": [
    "embed_size = 300\n",
    "embedding_matrix = np.zeros((len(tokenizer.word_index) + 1, embed_size))\n",
    "absent_words = 0\n",
    "for word, i in tokenizer.word_index.items():\n",
    "    embedding_vector = embeddings_index.get(word)\n",
    "    if embedding_vector is not None:\n",
    "        # words not found in embedding index will be all-zeros.\n",
    "        embedding_matrix[i] = embedding_vector\n",
    "    else:\n",
    "        absent_words += 1"
   ]
  },
  {
   "cell_type": "markdown",
   "metadata": {},
   "source": [
    "# Modeling"
   ]
  },
  {
   "cell_type": "code",
   "execution_count": 63,
   "metadata": {},
   "outputs": [],
   "source": [
    "from numpy import array\n",
    "from keras.models import Sequential\n",
    "from keras.preprocessing.text import one_hot\n",
    "from keras.preprocessing.sequence import pad_sequences\n",
    "from keras.models import Sequential\n",
    "from keras.layers import Dense, LSTM, Bidirectional\n",
    "from keras.layers.embeddings import Embedding"
   ]
  },
  {
   "cell_type": "code",
   "execution_count": 64,
   "metadata": {},
   "outputs": [
    {
     "name": "stdout",
     "output_type": "stream",
     "text": [
      "Model Summary\n",
      "Model: \"sequential_3\"\n",
      "_________________________________________________________________\n",
      "Layer (type)                 Output Shape              Param #   \n",
      "=================================================================\n",
      "embedding_3 (Embedding)      (None, 125, 64)           11839232  \n",
      "_________________________________________________________________\n",
      "bidirectional_3 (Bidirection (None, 18)                5328      \n",
      "_________________________________________________________________\n",
      "dense_3 (Dense)              (None, 9)                 171       \n",
      "=================================================================\n",
      "Total params: 11,844,731\n",
      "Trainable params: 11,844,731\n",
      "Non-trainable params: 0\n",
      "_________________________________________________________________\n",
      "None\n"
     ]
    }
   ],
   "source": [
    "vector_dim = 64\n",
    "model = Sequential()\n",
    "#model.add(Embedding(vocab_size, embed_size, weights=[embedding_matrix], input_length=max_len))\n",
    "model.add(Embedding(vocab_size, vector_dim, input_length=max_len))\n",
    "model.add(Bidirectional(LSTM(num_classes,activation=\"tanh\",input_shape=(max_len, vector_dim), return_sequences = False)))\n",
    "model.add(Dense(num_classes,activation=\"softmax\"))\n",
    "model.compile(optimizer='rmsprop', loss='categorical_crossentropy', metrics=['accuracy'])\n",
    "\n",
    "print(\"Model Summary\")\n",
    "print(model.summary())"
   ]
  },
  {
   "cell_type": "code",
   "execution_count": 68,
   "metadata": {},
   "outputs": [
    {
     "name": "stdout",
     "output_type": "stream",
     "text": [
      "Train on 16842 samples, validate on 4211 samples\n",
      "Epoch 1/20\n",
      "16842/16842 [==============================] - 25s 1ms/step - loss: 0.3585 - accuracy: 0.9252 - val_loss: 0.6621 - val_accuracy: 0.8200\n",
      "Epoch 2/20\n",
      "16842/16842 [==============================] - 26s 2ms/step - loss: 0.3025 - accuracy: 0.9404 - val_loss: 0.6578 - val_accuracy: 0.8224\n",
      "Epoch 3/20\n",
      "16842/16842 [==============================] - 26s 2ms/step - loss: 0.2665 - accuracy: 0.9465 - val_loss: 0.6356 - val_accuracy: 0.8259\n",
      "Epoch 4/20\n",
      "16842/16842 [==============================] - 23s 1ms/step - loss: 0.2211 - accuracy: 0.9571 - val_loss: 0.6196 - val_accuracy: 0.8295\n",
      "Epoch 5/20\n",
      "16842/16842 [==============================] - 23s 1ms/step - loss: 0.1861 - accuracy: 0.9640 - val_loss: 0.5913 - val_accuracy: 0.8397\n",
      "Epoch 6/20\n",
      "16842/16842 [==============================] - 23s 1ms/step - loss: 0.1606 - accuracy: 0.9660 - val_loss: 0.6015 - val_accuracy: 0.8411\n",
      "Epoch 7/20\n",
      "16842/16842 [==============================] - 24s 1ms/step - loss: 0.1352 - accuracy: 0.9722 - val_loss: 0.6108 - val_accuracy: 0.8380\n",
      "Epoch 8/20\n",
      "16842/16842 [==============================] - 30s 2ms/step - loss: 0.1145 - accuracy: 0.9779 - val_loss: 0.5926 - val_accuracy: 0.8371\n",
      "Epoch 9/20\n",
      "16842/16842 [==============================] - 27s 2ms/step - loss: 0.0967 - accuracy: 0.9811 - val_loss: 0.5929 - val_accuracy: 0.8421\n",
      "Epoch 10/20\n",
      "16842/16842 [==============================] - 26s 2ms/step - loss: 0.0821 - accuracy: 0.9829 - val_loss: 0.6145 - val_accuracy: 0.8361\n",
      "Epoch 11/20\n",
      "16842/16842 [==============================] - 23s 1ms/step - loss: 0.0734 - accuracy: 0.9846 - val_loss: 0.5989 - val_accuracy: 0.8456\n",
      "Epoch 12/20\n",
      "16842/16842 [==============================] - 25s 2ms/step - loss: 0.0598 - accuracy: 0.9881 - val_loss: 0.6109 - val_accuracy: 0.8442\n",
      "Epoch 13/20\n",
      "16842/16842 [==============================] - 24s 1ms/step - loss: 0.0568 - accuracy: 0.9875 - val_loss: 0.6370 - val_accuracy: 0.8456\n",
      "Epoch 14/20\n",
      "16842/16842 [==============================] - 24s 1ms/step - loss: 0.0466 - accuracy: 0.9909 - val_loss: 0.6257 - val_accuracy: 0.8440\n",
      "Epoch 15/20\n",
      "16842/16842 [==============================] - 24s 1ms/step - loss: 0.0392 - accuracy: 0.9927 - val_loss: 0.6228 - val_accuracy: 0.8452\n",
      "Epoch 16/20\n",
      "16842/16842 [==============================] - 24s 1ms/step - loss: 0.0378 - accuracy: 0.9925 - val_loss: 0.6140 - val_accuracy: 0.8490\n",
      "Epoch 17/20\n",
      "16842/16842 [==============================] - 24s 1ms/step - loss: 0.0349 - accuracy: 0.9921 - val_loss: 0.6623 - val_accuracy: 0.8385\n",
      "Epoch 18/20\n",
      "16842/16842 [==============================] - 25s 1ms/step - loss: 0.0274 - accuracy: 0.9944 - val_loss: 0.6567 - val_accuracy: 0.8452\n",
      "Epoch 19/20\n",
      "16842/16842 [==============================] - 29s 2ms/step - loss: 0.0255 - accuracy: 0.9950 - val_loss: 0.6287 - val_accuracy: 0.8570\n",
      "Epoch 20/20\n",
      "16842/16842 [==============================] - 25s 2ms/step - loss: 0.0227 - accuracy: 0.9953 - val_loss: 0.6512 - val_accuracy: 0.8445\n"
     ]
    }
   ],
   "source": [
    "history = model.fit(x_train, y_train, epochs=20, batch_size=256, validation_data=(x_test, y_test), verbose=1)"
   ]
  },
  {
   "cell_type": "code",
   "execution_count": 69,
   "metadata": {},
   "outputs": [
    {
     "data": {
      "image/png": "[encoded data removed]",
      "text/plain": [
       "<Figure size 432x288 with 1 Axes>"
      ]
     },
     "metadata": {
      "needs_background": "light"
     },
     "output_type": "display_data"
    }
   ],
   "source": [
    "from matplotlib import pyplot\n",
    "pyplot.plot(history.history['loss'], label='train')\n",
    "pyplot.plot(history.history['val_loss'], label='test')\n",
    "pyplot.legend()\n",
    "pyplot.show()"
   ]
  },
  {
   "cell_type": "code",
   "execution_count": 75,
   "metadata": {},
   "outputs": [
    {
     "data": {
      "text/plain": [
       "'politics'"
      ]
     },
     "execution_count": 75,
     "metadata": {},
     "output_type": "execute_result"
    }
   ],
   "source": [
    "query = \"As vote counting continues in key battleground states like Georgia and Pennsylvania, where Vice President Joe Biden has taken the lead over President Donald Trump on Friday, Libertarian presidential candidate Jo Jorgensen says third party candidates don’t “take” votes from other parties.\"\n",
    "query = cleanUpSentence(query)\n",
    "query = tokenizer.texts_to_sequences([query])\n",
    "query = pad_sequences(query, maxlen=max_len, padding='post')\n",
    "prediction = model.predict(np.array(query))\n",
    "text_labels = encoder.classes_ \n",
    "text_labels[np.argmax(prediction)]"
   ]
  },
  {
   "cell_type": "code",
   "execution_count": null,
   "metadata": {},
   "outputs": [],
   "source": []
  },
  {
   "cell_type": "code",
   "execution_count": null,
   "metadata": {},
   "outputs": [],
   "source": []
  }
 ],
 "metadata": {
  "kernelspec": {
   "display_name": "Python 3",
   "language": "python",
   "name": "python3"
  },
  "language_info": {
   "codemirror_mode": {
    "name": "ipython",
    "version": 3
   },
   "file_extension": ".py",
   "mimetype": "text/x-python",
   "name": "python",
   "nbconvert_exporter": "python",
   "pygments_lexer": "ipython3",
   "version": "3.8.3"
  }
 },
 "nbformat": 4,
 "nbformat_minor": 4
}
